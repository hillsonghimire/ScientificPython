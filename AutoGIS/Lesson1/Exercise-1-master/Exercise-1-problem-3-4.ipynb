{
 "cells": [
  {
   "cell_type": "markdown",
   "metadata": {
    "deletable": false,
    "editable": false,
    "nbgrader": {
     "checksum": "ca526d319b8fb2aa32045eba104edf99",
     "grade": false,
     "grade_id": "cell-8e97f56bdddd1895",
     "locked": true,
     "schema_version": 1,
     "solution": false
    }
   },
   "source": [
    "## Problem 3: Reading coordinates from a file and creating a geometries (*5 points*) \n",
    "\n",
    "One of the most typical problems in GIS is the situation where you have a set of coordinates in some file, and you need to map those. Python is a really handy tool for these kind of situations, as it is possible to read data from (basically) any kind of input datafile (such as csv-, txt-, excel-, gpx-files (gps data), databases etc.). \n",
    "\n",
    "Thus, let's see how we can read data from a file and create Point -objects from them that can be saved e.g. as a new Shapefile (we will learn this next week). Our dataset **[travelTimes_2015_Helsinki.txt](data/travelTimes_2015_Helsinki.txt)** consist of \n",
    "travel times between specific locations in Helsinki Region. The first four rows of our data looks like this:\n",
    "\n",
    "```\n",
    "   from_id;to_id;fromid_toid;route_number;at;from_x;from_y;to_x;to_y;total_route_time;route_time;route_distance\n",
    "   5861326;5785640;5861326_5785640;1;08:10;24.9704379;60.3119173;24.8560344;60.399940599999994;125.0;99.0;22917.6\n",
    "   5861326;5785641;5861326_5785641;1;08:10;24.9704379;60.3119173;24.8605682;60.4000135;123.0;102.0;23123.5\n",
    "   5861326;5785642;5861326_5785642;1;08:10;24.9704379;60.3119173;24.865102;60.4000863;125.0;103.0;23241.3\n",
    "```\n",
    "\n",
    "As we can see, there exists many columns in the data, but the few important ones needed here are:\n",
    "\n",
    "| Column | Description |\n",
    "|--------|-------------|\n",
    "| from_x | x-coordinate of the **origin** location (longitude) |\n",
    "| from_y | y-coordinate of the **origin** location (latitude) |\n",
    "| to_x   | x-coordinate of the **destination** location (longitude)|\n",
    "| to_y   | y-coordinate of the **destination** location (latitude) |\n",
    "| total_route_time | Travel time with public transportation at the route |\n",
    "\n",
    "### Steps\n",
    "\n",
    "1: Read the [data/travelTimes_2015_Helsinki.txt](data/travelTimes_2015_Helsinki.txt) file into a variable **`data`** using  Pandas.\n",
    "\n",
    "  - What is the separator in the data (see above)? Remember to take that into account when reading the data.\n"
   ]
  },
  {
   "cell_type": "code",
   "execution_count": null,
   "metadata": {
    "collapsed": true,
    "deletable": false,
    "nbgrader": {
     "checksum": "2aba8072df9b2c6e40d74a134e81acd8",
     "grade": false,
     "grade_id": "read-data",
     "locked": false,
     "schema_version": 1,
     "solution": true
    }
   },
   "outputs": [],
   "source": [
    "# REPLACE THE ERROR BELOW WITH YOUR OWN CODE\n",
    "raise NotImplementedError()"
   ]
  },
  {
   "cell_type": "code",
   "execution_count": null,
   "metadata": {
    "collapsed": true,
    "deletable": false,
    "editable": false,
    "nbgrader": {
     "checksum": "18908db861f59654a0dae798e25ebcb3",
     "grade": true,
     "grade_id": "read-data-test",
     "locked": true,
     "points": 0.5,
     "schema_version": 1,
     "solution": false
    }
   },
   "outputs": [],
   "source": [
    "# This test print should print first five rows in the data (if not, something is incorrect):\n",
    "data.head()\n"
   ]
  },
  {
   "cell_type": "markdown",
   "metadata": {
    "deletable": false,
    "editable": false,
    "nbgrader": {
     "checksum": "da844ada228033e5704110e8b68ea3c8",
     "grade": false,
     "grade_id": "cell-8629f1cfe42652d3",
     "locked": true,
     "schema_version": 1,
     "solution": false
    }
   },
   "source": [
    "2: Select 4 columns from the DataFrame: i.e. **'from_x'**, **'from_y'**, **'to_x'**, **'to_y'** and store them in variable **`data`** (i.e. update the data -variable).\n"
   ]
  },
  {
   "cell_type": "code",
   "execution_count": null,
   "metadata": {
    "collapsed": true,
    "deletable": false,
    "nbgrader": {
     "checksum": "3823f81b8fbb2e45b62893d4256842c8",
     "grade": false,
     "grade_id": "select-data",
     "locked": false,
     "schema_version": 1,
     "solution": true
    }
   },
   "outputs": [],
   "source": [
    "# REPLACE THE ERROR BELOW WITH YOUR OWN CODE\n",
    "raise NotImplementedError()"
   ]
  },
  {
   "cell_type": "code",
   "execution_count": null,
   "metadata": {
    "collapsed": true,
    "deletable": false,
    "editable": false,
    "nbgrader": {
     "checksum": "dd53373821366669e81d726f0d91b012",
     "grade": true,
     "grade_id": "select-data-test",
     "locked": true,
     "points": 0.5,
     "schema_version": 1,
     "solution": false
    }
   },
   "outputs": [],
   "source": [
    "# Print out the columns of the 'data' DataFrame:\n"
   ]
  },
  {
   "cell_type": "markdown",
   "metadata": {
    "deletable": false,
    "editable": false,
    "nbgrader": {
     "checksum": "88e6a43b2403aab6dcc4b831269f4d73",
     "grade": false,
     "grade_id": "cell-a6b02a2d661bc709",
     "locked": true,
     "schema_version": 1,
     "solution": false
    }
   },
   "source": [
    "3: Create (2) lists for points called **`orig_points`** and **`dest_points`**\n"
   ]
  },
  {
   "cell_type": "code",
   "execution_count": null,
   "metadata": {
    "collapsed": true,
    "deletable": false,
    "nbgrader": {
     "checksum": "f93df0e4aea927ffa2ad9c42bada5ea3",
     "grade": false,
     "grade_id": "create-lists",
     "locked": false,
     "schema_version": 1,
     "solution": true
    }
   },
   "outputs": [],
   "source": [
    "# REPLACE THE ERROR BELOW WITH YOUR OWN CODE\n",
    "raise NotImplementedError()"
   ]
  },
  {
   "cell_type": "code",
   "execution_count": null,
   "metadata": {
    "collapsed": false,
    "deletable": false,
    "editable": false,
    "nbgrader": {
     "checksum": "89088b17a09a03b079f0f7dba8c18288",
     "grade": true,
     "grade_id": "create-lists-test",
     "locked": true,
     "points": 0.5,
     "schema_version": 1,
     "solution": false
    }
   },
   "outputs": [],
   "source": [
    "# These test prints should produce empty lists\n",
    "print('orig_points length:', len(orig_points))\n",
    "print('dest_points length:', len(dest_points))\n"
   ]
  },
  {
   "cell_type": "markdown",
   "metadata": {
    "deletable": false,
    "editable": false,
    "nbgrader": {
     "checksum": "6e5d996ece60413c3632414e4e2b36fa",
     "grade": false,
     "grade_id": "cell-386a63916905663b",
     "locked": true,
     "schema_version": 1,
     "solution": false
    }
   },
   "source": [
    "4: Iterate over the rows of your DataFrame and add Shapely Point -objects into the **`orig_points`** -list and **`dest_point`** -list representing the origin locations (columns `from_x` and `from_y`) and destination locations (columns `to_x` and `to_y`) accordingly.\n",
    "\n",
    "  - See lesson materials from [Geo-Python Lesson 6](https://geo-python.github.io/2018/notebooks/L6/pandas/advanced-data-processing-with-pandas.html#Iterating-rows-and-using-self-made-functions-in-Pandas) if you do not remember how to iterate over DataFrame rows\n"
   ]
  },
  {
   "cell_type": "code",
   "execution_count": null,
   "metadata": {
    "collapsed": true,
    "deletable": false,
    "nbgrader": {
     "checksum": "bf3d5f404840ef5b691321994a02a423",
     "grade": false,
     "grade_id": "create-points",
     "locked": false,
     "schema_version": 1,
     "solution": true
    }
   },
   "outputs": [],
   "source": [
    "# REPLACE THE ERROR BELOW WITH YOUR OWN CODE\n",
    "raise NotImplementedError()"
   ]
  },
  {
   "cell_type": "code",
   "execution_count": null,
   "metadata": {
    "collapsed": false,
    "deletable": false,
    "editable": false,
    "nbgrader": {
     "checksum": "98741d988a8dea670c7686329d69d6b5",
     "grade": true,
     "grade_id": "create-points-test",
     "locked": true,
     "points": 3.5,
     "schema_version": 1,
     "solution": false
    }
   },
   "outputs": [],
   "source": [
    "# This test print should print first five origin Point -objects\n",
    "print(orig_points[0:5])\n"
   ]
  },
  {
   "cell_type": "markdown",
   "metadata": {
    "deletable": false,
    "editable": false,
    "nbgrader": {
     "checksum": "2d0f09b59fd4269a3930ce183efd3488",
     "grade": false,
     "grade_id": "cell-8a7219cc6adc6396",
     "locked": true,
     "schema_version": 1,
     "solution": false
    }
   },
   "source": [
    "\n",
    "- Upload the codes and edits to your **own** personal GitHub repository for Exercise-1 in AutoGIS-2018.\n",
    "\n",
    "## Done!\n",
    "\n",
    "That's it. Now you are ready to continue for the final Problem 4."
   ]
  },
  {
   "cell_type": "markdown",
   "metadata": {
    "deletable": false,
    "editable": false,
    "nbgrader": {
     "checksum": "eee091a7921c44c0549e80d45f253fa4",
     "grade": false,
     "grade_id": "cell-9566ff76a1dc4a27",
     "locked": true,
     "schema_version": 1,
     "solution": false
    }
   },
   "source": [
    "## Problem 4: Creating LineStrings that represent the movements (*5 points*):\n",
    "\n",
    "This task continuous where we left in Problem 3. \n",
    "   \n",
    "1: Create a list called `lines`\n"
   ]
  },
  {
   "cell_type": "code",
   "execution_count": null,
   "metadata": {
    "collapsed": true,
    "deletable": false,
    "nbgrader": {
     "checksum": "317f8d53b553cd7bc304217496d0f811",
     "grade": false,
     "grade_id": "line-list",
     "locked": false,
     "schema_version": 1,
     "solution": true
    }
   },
   "outputs": [],
   "source": [
    "# REPLACE THE ERROR BELOW WITH YOUR OWN CODE\n",
    "raise NotImplementedError()"
   ]
  },
  {
   "cell_type": "code",
   "execution_count": null,
   "metadata": {
    "collapsed": true,
    "deletable": false,
    "editable": false,
    "nbgrader": {
     "checksum": "9613ff0a1530ddfae27a7a66f13467e7",
     "grade": true,
     "grade_id": "line-list-test",
     "locked": true,
     "points": 0.5,
     "schema_version": 1,
     "solution": false
    }
   },
   "outputs": [],
   "source": [
    "# This test print should produce empty list\n",
    "print('lines length:', len(lines))"
   ]
  },
  {
   "cell_type": "markdown",
   "metadata": {},
   "source": [
    "2a: Iterate over the origin and destination lists and create a Shapely LineString -object between the origin and destination point\n",
    "\n",
    "  - Hint - Alternative 1: You can take advantage of `range()` function here that can help accessing the values from two lists at the same time.\n",
    "     \n",
    "  - Hint - Alternative 2: You can use `zip()` function to iterate over many lists at the same time. [See hints for this week](https://automating-gis-processes.github.io/2018/lessons/L1/exercise-1.html#hints)\n",
    "  \n",
    "2b: Add the LineString into the `lines` -list.\n"
   ]
  },
  {
   "cell_type": "code",
   "execution_count": null,
   "metadata": {
    "collapsed": false,
    "deletable": false,
    "nbgrader": {
     "checksum": "dc88c4f551091bbd4e3afcc41637d95f",
     "grade": false,
     "grade_id": "create-od-line",
     "locked": false,
     "schema_version": 1,
     "solution": true
    }
   },
   "outputs": [],
   "source": [
    "# REPLACE THE ERROR BELOW WITH YOUR OWN CODE\n",
    "raise NotImplementedError()"
   ]
  },
  {
   "cell_type": "code",
   "execution_count": null,
   "metadata": {
    "collapsed": false,
    "deletable": false,
    "editable": false,
    "nbgrader": {
     "checksum": "8ffc92c6c626e4a2aa32a7a32cd4a5e7",
     "grade": true,
     "grade_id": "create-od-line-test",
     "locked": true,
     "points": 2,
     "schema_version": 1,
     "solution": false
    }
   },
   "outputs": [],
   "source": [
    "# This test print should print first five LineString -objects\n",
    "print(lines[0:5])\n"
   ]
  },
  {
   "cell_type": "markdown",
   "metadata": {},
   "source": [
    "3: Create a variable called **`total_length`**, and store the total (Euclidian) distance of all the origin-destination LineStrings that we just created into that variable.\n",
    "\n",
    "  - Hint: You might want to iterate over the lines and update the total lenght on each iteration.\n"
   ]
  },
  {
   "cell_type": "code",
   "execution_count": null,
   "metadata": {
    "collapsed": false,
    "deletable": false,
    "nbgrader": {
     "checksum": "dae14a63f11592f0b65b12a65b98e2cc",
     "grade": false,
     "grade_id": "euclidian-distance",
     "locked": false,
     "schema_version": 1,
     "solution": true
    }
   },
   "outputs": [],
   "source": [
    "# REPLACE THE ERROR BELOW WITH YOUR OWN CODE\n",
    "raise NotImplementedError()"
   ]
  },
  {
   "cell_type": "code",
   "execution_count": null,
   "metadata": {
    "collapsed": false,
    "deletable": false,
    "editable": false,
    "nbgrader": {
     "checksum": "aa72370e69161b55e767b1c2be61a5a1",
     "grade": true,
     "grade_id": "euclidian-distance-test",
     "locked": true,
     "points": 1.5,
     "schema_version": 1,
     "solution": false
    }
   },
   "outputs": [],
   "source": [
    "# This test print should print the total length of all lines\n",
    "print(\"Total length of all lines is\", total_length)\n"
   ]
  },
  {
   "cell_type": "markdown",
   "metadata": {},
   "source": [
    "4: To make things more reusable: write the previous parts, i.e. the creation of the LineString and calculating the total distance, into dedicated functions and use them. You can copy and paste the codes you have written earlier. \n",
    "\n",
    "  - You can name the functions as you wish\n",
    "  - Hint: Your function should take origin and destination point lists as input"
   ]
  },
  {
   "cell_type": "code",
   "execution_count": null,
   "metadata": {
    "collapsed": false,
    "deletable": false,
    "nbgrader": {
     "checksum": "c44be5ffc8b218c51f9a88b2d9dfb2a2",
     "grade": true,
     "grade_id": "distance-function",
     "locked": false,
     "points": 1,
     "schema_version": 1,
     "solution": true
    }
   },
   "outputs": [],
   "source": [
    "# REPLACE THE ERROR BELOW WITH YOUR OWN CODE\n",
    "raise NotImplementedError()"
   ]
  },
  {
   "cell_type": "markdown",
   "metadata": {},
   "source": [
    "## All done!\n",
    "\n",
    "Awesome, now you have successfully practiced how geometries can be created in Python. Next week we will start using them actively."
   ]
  }
 ],
 "metadata": {
  "kernelspec": {
   "display_name": "Python 3",
   "language": "python",
   "name": "python3"
  },
  "language_info": {
   "codemirror_mode": {
    "name": "ipython",
    "version": 3
   },
   "file_extension": ".py",
   "mimetype": "text/x-python",
   "name": "python",
   "nbconvert_exporter": "python",
   "pygments_lexer": "ipython3",
   "version": "3.6.0"
  }
 },
 "nbformat": 4,
 "nbformat_minor": 2
}
