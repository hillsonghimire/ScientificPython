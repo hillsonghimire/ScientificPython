{
 "cells": [
  {
   "cell_type": "markdown",
   "metadata": {},
   "source": [
    "https://automating-gis-processes.github.io/"
   ]
  },
  {
   "cell_type": "markdown",
   "metadata": {},
   "source": [
    "<h3>Shapely and geometric objects</h3>"
   ]
  },
  {
   "cell_type": "code",
   "execution_count": 1,
   "metadata": {},
   "outputs": [],
   "source": [
    "from shapely.geometry import Point, LineString, Polygon"
   ]
  },
  {
   "cell_type": "code",
   "execution_count": 22,
   "metadata": {},
   "outputs": [],
   "source": [
    "#assign points coordinates to variables\n",
    "point1 = Point(2,3)\n",
    "point2 = Point(6,4)\n",
    "point3 = Point(9,16)\n",
    "point3d = Point(2,5,3)"
   ]
  },
  {
   "cell_type": "code",
   "execution_count": 3,
   "metadata": {},
   "outputs": [
    {
     "data": {
      "image/svg+xml": [
       "<svg xmlns=\"http://www.w3.org/2000/svg\" xmlns:xlink=\"http://www.w3.org/1999/xlink\" width=\"100.0\" height=\"100.0\" viewBox=\"1.0 2.0 2.0 2.0\" preserveAspectRatio=\"xMinYMin meet\"><g transform=\"matrix(1,0,0,-1,0,6.0)\"><circle cx=\"2.0\" cy=\"3.0\" r=\"0.06\" stroke=\"#555555\" stroke-width=\"0.02\" fill=\"#66cc99\" opacity=\"0.6\" /></g></svg>"
      ],
      "text/plain": [
       "<shapely.geometry.point.Point at 0x7f05dcb5d748>"
      ]
     },
     "execution_count": 3,
     "metadata": {},
     "output_type": "execute_result"
    }
   ],
   "source": [
    "#display points\n",
    "point1"
   ]
  },
  {
   "cell_type": "code",
   "execution_count": 4,
   "metadata": {},
   "outputs": [
    {
     "name": "stdout",
     "output_type": "stream",
     "text": [
      "POINT Z (2 5 3)\n",
      "POINT (2 3)\n"
     ]
    }
   ],
   "source": [
    "print(point3d)\n",
    "print(point1)"
   ]
  },
  {
   "cell_type": "code",
   "execution_count": 5,
   "metadata": {},
   "outputs": [
    {
     "data": {
      "text/plain": [
       "shapely.geometry.point.Point"
      ]
     },
     "execution_count": 5,
     "metadata": {},
     "output_type": "execute_result"
    }
   ],
   "source": [
    "type(point1)"
   ]
  },
  {
   "cell_type": "code",
   "execution_count": 6,
   "metadata": {},
   "outputs": [
    {
     "data": {
      "image/svg+xml": [
       "<svg xmlns=\"http://www.w3.org/2000/svg\" xmlns:xlink=\"http://www.w3.org/1999/xlink\" width=\"100.0\" height=\"100.0\" viewBox=\"1.84 2.84 4.32 1.3200000000000003\" preserveAspectRatio=\"xMinYMin meet\"><g transform=\"matrix(1,0,0,-1,0,7.0)\"><polyline fill=\"none\" stroke=\"#66cc99\" stroke-width=\"0.0864\" points=\"2.0,3.0 6.0,4.0\" opacity=\"0.8\" /></g></svg>"
      ],
      "text/plain": [
       "<shapely.geometry.linestring.LineString at 0x7f05dcb78160>"
      ]
     },
     "execution_count": 6,
     "metadata": {},
     "output_type": "execute_result"
    }
   ],
   "source": [
    "#define line using points\n",
    "line = LineString([point1,point2])\n",
    "line"
   ]
  },
  {
   "cell_type": "code",
   "execution_count": 7,
   "metadata": {},
   "outputs": [
    {
     "data": {
      "image/svg+xml": [
       "<svg xmlns=\"http://www.w3.org/2000/svg\" xmlns:xlink=\"http://www.w3.org/1999/xlink\" width=\"100.0\" height=\"100.0\" viewBox=\"-1.08 -1.08 2.16 2.16\" preserveAspectRatio=\"xMinYMin meet\"><g transform=\"matrix(1,0,0,-1,0,0.0)\"><path fill-rule=\"evenodd\" fill=\"#66cc99\" stroke=\"#555555\" stroke-width=\"0.0432\" opacity=\"0.6\" d=\"M 1.0,0.0 L 0.9951847266721969,-0.0980171403295605 L 0.9807852804032305,-0.19509032201612808 L 0.9569403357322089,-0.2902846772544621 L 0.923879532511287,-0.3826834323650894 L 0.8819212643483553,-0.4713967368259972 L 0.8314696123025456,-0.5555702330196017 L 0.7730104533627374,-0.6343932841636449 L 0.7071067811865481,-0.7071067811865469 L 0.6343932841636463,-0.7730104533627363 L 0.5555702330196031,-0.8314696123025447 L 0.4713967368259986,-0.8819212643483545 L 0.38268343236509084,-0.9238795325112863 L 0.2902846772544636,-0.9569403357322085 L 0.19509032201612964,-0.9807852804032302 L 0.09801714032956209,-0.9951847266721967 L 1.6155445744325867e-15,-1.0 L -0.09801714032955888,-0.995184726672197 L -0.19509032201612647,-0.9807852804032308 L -0.2902846772544605,-0.9569403357322094 L -0.38268343236508784,-0.9238795325112875 L -0.4713967368259957,-0.881921264348356 L -0.5555702330196005,-0.8314696123025463 L -0.6343932841636439,-0.7730104533627382 L -0.7071067811865462,-0.7071067811865488 L -0.7730104533627359,-0.6343932841636468 L -0.8314696123025443,-0.5555702330196036 L -0.8819212643483543,-0.47139673682599903 L -0.9238795325112862,-0.3826834323650911 L -0.9569403357322085,-0.29028467725446366 L -0.9807852804032302,-0.19509032201612947 L -0.9951847266721968,-0.09801714032956171 L -1.0,-1.0106430996148606e-15 L -0.9951847266721969,0.0980171403295597 L -0.9807852804032307,0.1950903220161275 L -0.956940335732209,0.2902846772544617 L -0.923879532511287,0.3826834323650892 L -0.8819212643483553,0.47139673682599725 L -0.8314696123025455,0.555570233019602 L -0.7730104533627371,0.6343932841636453 L -0.7071067811865477,0.7071067811865475 L -0.6343932841636459,0.7730104533627367 L -0.555570233019603,0.8314696123025448 L -0.4713967368259987,0.8819212643483545 L -0.38268343236509117,0.9238795325112862 L -0.2902846772544641,0.9569403357322084 L -0.1950903220161304,0.98078528040323 L -0.0980171403295631,0.9951847266721966 L -2.848232278972479e-15,1.0 L 0.09801714032955743,0.9951847266721972 L 0.1950903220161248,0.9807852804032311 L 0.29028467725445867,0.9569403357322099 L 0.3826834323650859,0.9238795325112884 L 0.47139673682599365,0.8819212643483572 L 0.5555702330195982,0.8314696123025479 L 0.6343932841636415,0.7730104533627402 L 0.7071067811865436,0.7071067811865515 L 0.7730104533627332,0.63439328416365 L 0.8314696123025418,0.5555702330196074 L 0.8819212643483519,0.4713967368260034 L 0.9238795325112841,0.38268343236509617 L 0.9569403357322067,0.29028467725446927 L 0.980785280403229,0.1950903220161357 L 0.9951847266721962,0.09801714032956847 L 1.0,8.238535137130597e-15 L 1.0,0.0 z\" /></g></svg>"
      ],
      "text/plain": [
       "<shapely.geometry.polygon.Polygon at 0x7f05dcb78240>"
      ]
     },
     "execution_count": 7,
     "metadata": {},
     "output_type": "execute_result"
    }
   ],
   "source": [
    "#define a circle\n",
    "circle = Point(0,0).buffer(1)\n",
    "circle"
   ]
  },
  {
   "cell_type": "code",
   "execution_count": 8,
   "metadata": {},
   "outputs": [
    {
     "data": {
      "text/plain": [
       "[(1.0, 0.0),\n",
       " (0.9951847266721969, -0.0980171403295605),\n",
       " (0.9807852804032305, -0.19509032201612808),\n",
       " (0.9569403357322089, -0.2902846772544621),\n",
       " (0.923879532511287, -0.3826834323650894),\n",
       " (0.8819212643483553, -0.4713967368259972),\n",
       " (0.8314696123025456, -0.5555702330196017),\n",
       " (0.7730104533627374, -0.6343932841636449),\n",
       " (0.7071067811865481, -0.7071067811865469),\n",
       " (0.6343932841636463, -0.7730104533627363),\n",
       " (0.5555702330196031, -0.8314696123025447),\n",
       " (0.4713967368259986, -0.8819212643483545),\n",
       " (0.38268343236509084, -0.9238795325112863),\n",
       " (0.2902846772544636, -0.9569403357322085),\n",
       " (0.19509032201612964, -0.9807852804032302),\n",
       " (0.09801714032956209, -0.9951847266721967),\n",
       " (1.6155445744325867e-15, -1.0),\n",
       " (-0.09801714032955888, -0.995184726672197),\n",
       " (-0.19509032201612647, -0.9807852804032308),\n",
       " (-0.2902846772544605, -0.9569403357322094),\n",
       " (-0.38268343236508784, -0.9238795325112875),\n",
       " (-0.4713967368259957, -0.881921264348356),\n",
       " (-0.5555702330196005, -0.8314696123025463),\n",
       " (-0.6343932841636439, -0.7730104533627382),\n",
       " (-0.7071067811865462, -0.7071067811865488),\n",
       " (-0.7730104533627359, -0.6343932841636468),\n",
       " (-0.8314696123025443, -0.5555702330196036),\n",
       " (-0.8819212643483543, -0.47139673682599903),\n",
       " (-0.9238795325112862, -0.3826834323650911),\n",
       " (-0.9569403357322085, -0.29028467725446366),\n",
       " (-0.9807852804032302, -0.19509032201612947),\n",
       " (-0.9951847266721968, -0.09801714032956171),\n",
       " (-1.0, -1.0106430996148606e-15),\n",
       " (-0.9951847266721969, 0.0980171403295597),\n",
       " (-0.9807852804032307, 0.1950903220161275),\n",
       " (-0.956940335732209, 0.2902846772544617),\n",
       " (-0.923879532511287, 0.3826834323650892),\n",
       " (-0.8819212643483553, 0.47139673682599725),\n",
       " (-0.8314696123025455, 0.555570233019602),\n",
       " (-0.7730104533627371, 0.6343932841636453),\n",
       " (-0.7071067811865477, 0.7071067811865475),\n",
       " (-0.6343932841636459, 0.7730104533627367),\n",
       " (-0.555570233019603, 0.8314696123025448),\n",
       " (-0.4713967368259987, 0.8819212643483545),\n",
       " (-0.38268343236509117, 0.9238795325112862),\n",
       " (-0.2902846772544641, 0.9569403357322084),\n",
       " (-0.1950903220161304, 0.98078528040323),\n",
       " (-0.0980171403295631, 0.9951847266721966),\n",
       " (-2.848232278972479e-15, 1.0),\n",
       " (0.09801714032955743, 0.9951847266721972),\n",
       " (0.1950903220161248, 0.9807852804032311),\n",
       " (0.29028467725445867, 0.9569403357322099),\n",
       " (0.3826834323650859, 0.9238795325112884),\n",
       " (0.47139673682599365, 0.8819212643483572),\n",
       " (0.5555702330195982, 0.8314696123025479),\n",
       " (0.6343932841636415, 0.7730104533627402),\n",
       " (0.7071067811865436, 0.7071067811865515),\n",
       " (0.7730104533627332, 0.63439328416365),\n",
       " (0.8314696123025418, 0.5555702330196074),\n",
       " (0.8819212643483519, 0.4713967368260034),\n",
       " (0.9238795325112841, 0.38268343236509617),\n",
       " (0.9569403357322067, 0.29028467725446927),\n",
       " (0.980785280403229, 0.1950903220161357),\n",
       " (0.9951847266721962, 0.09801714032956847),\n",
       " (1.0, 8.238535137130597e-15),\n",
       " (1.0, 0.0)]"
      ]
     },
     "execution_count": 8,
     "metadata": {},
     "output_type": "execute_result"
    }
   ],
   "source": [
    "#list exterior points in circle\n",
    "list(circle.exterior.coords)"
   ]
  },
  {
   "cell_type": "code",
   "execution_count": 9,
   "metadata": {},
   "outputs": [
    {
     "data": {
      "image/svg+xml": [
       "<svg xmlns=\"http://www.w3.org/2000/svg\" xmlns:xlink=\"http://www.w3.org/1999/xlink\" width=\"100.0\" height=\"100.0\" viewBox=\"-1.08 -1.08 2.16 2.1551847266721973\" preserveAspectRatio=\"xMinYMin meet\"><g transform=\"matrix(1,0,0,-1,0,-0.004815273327802849)\"><polyline fill=\"none\" stroke=\"#66cc99\" stroke-width=\"0.0432\" points=\"1.0,0.0 0.9951847266721969,-0.0980171403295605 0.9807852804032305,-0.19509032201612808 0.881212643483553,-0.4713967368259972 0.7071067811865481,-0.7071067811865469 0.6343932841636463,-0.7730104533627363 0.19509032201612964,-0.9807852804032302 0.09801714032956209,-0.9951847266721967 1.6155445744325867e-15,-1.0 -0.09801714032955888,-0.995184726672197 -0.2902846772544605,-0.9569403357322094 -0.38268343236508784,-0.9238795325112875 -0.4713967368259957,-0.881921264348356 -0.5555702330196005,-0.8314696123025463 -0.6343932841636439,-0.7730104533627382 -0.7071067811865462,-0.7071067811865488 -0.8819212643483543,-0.47139673682599903 -0.9951847266721968,-0.09801714032956171 -1.0,-1.0106430996148606e-15 -0.9951847266721969,0.0980171403295597 -0.9807852804032307,0.1950903220161275 -0.956940335732209,0.2902846772544617 -0.923879532511287,0.3826834323650892 -0.8314696123025455,0.555570233019602 -0.555570233019603,0.8314696123025448 -0.4713967368259987,0.8819212643483545 -0.2902846772544641,0.9569403357322084 -0.1950903220161304,0.98078528040323 0.09801714032955743,0.9951847266721972 0.1950903220161248,0.9807852804032311 0.29028467725445867,0.9569403357322099 0.47139673682599365,0.8819212643483572 0.6343932841636415,0.7730104533627402 0.8819212643483519,0.4713967368260034 0.980785280403229,0.1950903220161357 1.0,8.238535137130597e-15 1.0,0.0\" opacity=\"0.8\" /></g></svg>"
      ],
      "text/plain": [
       "<shapely.geometry.linestring.LineString at 0x7f05dcb877f0>"
      ]
     },
     "execution_count": 9,
     "metadata": {},
     "output_type": "execute_result"
    }
   ],
   "source": [
    "#display a circle using its exterior points. This circle contains nothing inside the boundary.\n",
    "circLine = LineString([(1.0, 0.0),\n",
    " (0.9951847266721969, -0.0980171403295605),\n",
    " (0.9807852804032305, -0.19509032201612808),\n",
    " (0.881212643483553, -0.4713967368259972),\n",
    " (0.7071067811865481, -0.7071067811865469),\n",
    " (0.6343932841636463, -0.7730104533627363),\n",
    " (0.19509032201612964, -0.9807852804032302),\n",
    " (0.09801714032956209, -0.9951847266721967),\n",
    " (1.6155445744325867e-15, -1.0),\n",
    " (-0.09801714032955888, -0.995184726672197),\n",
    " (-0.2902846772544605, -0.9569403357322094),\n",
    " (-0.38268343236508784, -0.9238795325112875),\n",
    " (-0.4713967368259957, -0.881921264348356),\n",
    " (-0.5555702330196005, -0.8314696123025463),\n",
    " (-0.6343932841636439, -0.7730104533627382),\n",
    " (-0.7071067811865462, -0.7071067811865488),\n",
    " (-0.8819212643483543, -0.47139673682599903),\n",
    " (-0.9951847266721968, -0.09801714032956171),\n",
    " (-1.0, -1.0106430996148606e-15),\n",
    " (-0.9951847266721969, 0.0980171403295597),\n",
    " (-0.9807852804032307, 0.1950903220161275),\n",
    " (-0.956940335732209, 0.2902846772544617),\n",
    " (-0.923879532511287, 0.3826834323650892),\n",
    " (-0.8314696123025455, 0.555570233019602),\n",
    " (-0.555570233019603, 0.8314696123025448),\n",
    " (-0.4713967368259987, 0.8819212643483545),\n",
    " (-0.2902846772544641, 0.9569403357322084),\n",
    " (-0.1950903220161304, 0.98078528040323),\n",
    " (0.09801714032955743, 0.9951847266721972),\n",
    " (0.1950903220161248, 0.9807852804032311),\n",
    " (0.29028467725445867, 0.9569403357322099),\n",
    " (0.47139673682599365, 0.8819212643483572),\n",
    " (0.6343932841636415, 0.7730104533627402),\n",
    " (0.8819212643483519, 0.4713967368260034),\n",
    " (0.980785280403229, 0.1950903220161357),\n",
    " (1.0, 8.238535137130597e-15),\n",
    " (1.0, 0.0)])\n",
    "\n",
    "circLine"
   ]
  },
  {
   "cell_type": "code",
   "execution_count": 10,
   "metadata": {},
   "outputs": [
    {
     "data": {
      "image/svg+xml": [
       "<svg xmlns=\"http://www.w3.org/2000/svg\" xmlns:xlink=\"http://www.w3.org/1999/xlink\" width=\"100.0\" height=\"100.0\" viewBox=\"-16.6 -21.6 33.2 43.2\" preserveAspectRatio=\"xMinYMin meet\"><g transform=\"matrix(1,0,0,-1,0,0.0)\"><path fill-rule=\"evenodd\" fill=\"#66cc99\" stroke=\"#555555\" stroke-width=\"0.8640000000000001\" opacity=\"0.6\" d=\"M 15.0,0.0 L 14.927770900082955,-1.96034280659121 L 14.711779206048458,-3.9018064403225616 L 14.354105035983133,-5.805693545089242 L 13.858192987669305,-7.653668647301788 L 13.22881896522533,-9.427934736519944 L 12.472044184538184,-11.111404660392035 L 11.595156800441062,-12.687865683272898 L 10.606601717798222,-14.142135623730939 L 9.515899262454694,-15.460209067254727 L 8.333553495294046,-16.629392246050894 L 7.070951052389979,-17.63842528696709 L 5.740251485476363,-18.477590650225725 L 4.354270158816954,-19.13880671464417 L 2.9263548302419444,-19.615705608064605 L 1.4702571049434314,-19.903694533443932 L 2.42331686164888e-14,-20.0 L -1.4702571049433832,-19.90369453344394 L -2.926354830241897,-19.615705608064616 L -4.354270158816908,-19.138806714644186 L -5.740251485476318,-18.47759065022575 L -7.070951052389935,-17.63842528696712 L -8.333553495294007,-16.629392246050926 L -9.51589926245466,-15.460209067254764 L -10.606601717798194,-14.142135623730976 L -11.595156800441039,-12.687865683272936 L -12.472044184538165,-11.111404660392072 L -13.228818965225313,-9.42793473651998 L -13.858192987669293,-7.6536686473018225 L -14.354105035983128,-5.805693545089273 L -14.711779206048453,-3.9018064403225896 L -14.927770900082953,-1.9603428065912343 L -15.0,-2.021286199229721e-14 L -14.927770900082955,1.960342806591194 L -14.71177920604846,3.90180644032255 L -14.354105035983135,5.805693545089234 L -13.858192987669305,7.653668647301784 L -13.22881896522533,9.427934736519944 L -12.472044184538182,11.11140466039204 L -11.595156800441057,12.687865683272905 L -10.606601717798215,14.14213562373095 L -9.515899262454688,15.460209067254734 L -8.333553495294044,16.629392246050894 L -7.07095105238998,17.63842528696709 L -5.740251485476367,18.477590650225725 L -4.354270158816962,19.13880671464417 L -2.926354830241956,19.6157056080646 L -1.4702571049434465,19.903694533443932 L -4.272348418458718e-14,20.0 L 1.4702571049433615,19.903694533443943 L 2.926354830241872,19.615705608064623 L 4.35427015881688,19.138806714644197 L 5.740251485476288,18.477590650225768 L 7.070951052389905,17.63842528696714 L 8.333553495293973,16.62939224605096 L 9.515899262454623,15.460209067254805 L 10.606601717798153,14.14213562373103 L 11.595156800440998,12.687865683273001 L 12.472044184538127,11.111404660392148 L 13.22881896522528,9.427934736520069 L 13.85819298766926,7.653668647301924 L 14.354105035983102,5.805693545089385 L 14.711779206048435,3.901806440322714 L 14.927770900082942,1.9603428065913695 L 15.0,1.6477070274261195e-13 L 15.0,0.0 z\" /></g></svg>"
      ],
      "text/plain": [
       "<shapely.geometry.polygon.Polygon at 0x7f05dcb78cc0>"
      ]
     },
     "execution_count": 10,
     "metadata": {},
     "output_type": "execute_result"
    }
   ],
   "source": [
    "#defining a ellipse\n",
    "import shapely\n",
    "ellipse = shapely.affinity.scale(circle, 15, 20)\n",
    "ellipse"
   ]
  },
  {
   "cell_type": "code",
   "execution_count": 11,
   "metadata": {},
   "outputs": [
    {
     "data": {
      "image/svg+xml": [
       "<svg xmlns=\"http://www.w3.org/2000/svg\" xmlns:xlink=\"http://www.w3.org/1999/xlink\" width=\"100.0\" height=\"300\" viewBox=\"-26.4 -14.4 52.8 415.79999999999995\" preserveAspectRatio=\"xMinYMin meet\"><g transform=\"matrix(1,0,0,-1,0,387.0)\"><polyline fill=\"none\" stroke=\"#66cc99\" stroke-width=\"2.772\" points=\"-11.0,386.0 -10.0,321.0 -9.0,262.0 -8.0,209.0 -7.0,162.0 -6.0,121.0 -5.0,86.0 -4.0,57.0 -3.0,34.0 -2.0,17.0 -1.0,6.0 0.0,1.0 1.0,2.0 2.0,9.0 3.0,22.0 4.0,41.0 5.0,66.0 6.0,97.0 7.0,134.0 8.0,177.0 9.0,226.0 10.0,281.0 11.0,342.0\" opacity=\"0.8\" /></g></svg>"
      ],
      "text/plain": [
       "<shapely.geometry.linestring.LineString at 0x7f05dcb871d0>"
      ]
     },
     "execution_count": 11,
     "metadata": {},
     "output_type": "execute_result"
    }
   ],
   "source": [
    "#Printing graph from a function y = 3*pow(x,2) - 2*x + 1\n",
    "\n",
    "k1 = []\n",
    "k2 = []\n",
    "\n",
    "for x in range(-11,12):\n",
    "    m=pow(x,2)\n",
    "    y = 3*m - 2*x + 1\n",
    "    k1.append((x,y))\n",
    "    \n",
    "\n",
    "shape = LineString(k1)\n",
    "shape"
   ]
  },
  {
   "cell_type": "code",
   "execution_count": 12,
   "metadata": {},
   "outputs": [
    {
     "name": "stdout",
     "output_type": "stream",
     "text": [
      "LineString\n",
      "<class 'shapely.geometry.linestring.LineString'>\n"
     ]
    }
   ],
   "source": [
    "print(shape.geom_type)\n",
    "print(type(shape))\n"
   ]
  },
  {
   "cell_type": "markdown",
   "metadata": {},
   "source": [
    "<h3>Working with Line</h3>"
   ]
  },
  {
   "cell_type": "code",
   "execution_count": 13,
   "metadata": {},
   "outputs": [
    {
     "data": {
      "image/svg+xml": [
       "<svg xmlns=\"http://www.w3.org/2000/svg\" xmlns:xlink=\"http://www.w3.org/1999/xlink\" width=\"100.0\" height=\"100.0\" viewBox=\"1.84 2.84 4.32 1.3200000000000003\" preserveAspectRatio=\"xMinYMin meet\"><g transform=\"matrix(1,0,0,-1,0,7.0)\"><polyline fill=\"none\" stroke=\"#66cc99\" stroke-width=\"0.0864\" points=\"2.0,3.0 6.0,4.0\" opacity=\"0.8\" /></g></svg>"
      ],
      "text/plain": [
       "<shapely.geometry.linestring.LineString at 0x7f05dcb78160>"
      ]
     },
     "execution_count": 13,
     "metadata": {},
     "output_type": "execute_result"
    }
   ],
   "source": [
    "#display line\n",
    "line"
   ]
  },
  {
   "cell_type": "code",
   "execution_count": 14,
   "metadata": {},
   "outputs": [],
   "source": [
    "#extract coordinates from line as array\n",
    "lxy = line.xy"
   ]
  },
  {
   "cell_type": "code",
   "execution_count": 15,
   "metadata": {},
   "outputs": [
    {
     "data": {
      "text/plain": [
       "(array('d', [2.0, 6.0]), array('d', [3.0, 4.0]))"
      ]
     },
     "execution_count": 15,
     "metadata": {},
     "output_type": "execute_result"
    }
   ],
   "source": [
    "#diaplay the array\n",
    "lxy"
   ]
  },
  {
   "cell_type": "code",
   "execution_count": 16,
   "metadata": {},
   "outputs": [
    {
     "name": "stdout",
     "output_type": "stream",
     "text": [
      "X coordinates are:\n",
      "array('d', [2.0, 6.0])\n",
      "\n",
      "Y coordinates are:\n",
      "array('d', [3.0, 4.0])\n"
     ]
    }
   ],
   "source": [
    "#print array of x and y coordinates\n",
    "print(\"X coordinates are:\")\n",
    "print(lxy[0])\n",
    "\n",
    "print(\"\\nY coordinates are:\")\n",
    "print(lxy[1])"
   ]
  },
  {
   "cell_type": "code",
   "execution_count": 17,
   "metadata": {},
   "outputs": [
    {
     "name": "stdout",
     "output_type": "stream",
     "text": [
      "4.123105625617661\n",
      "POINT (4 3.5)\n"
     ]
    }
   ],
   "source": [
    "#length and centroid of line\n",
    "lxy_len = line.length\n",
    "print(lxy_len)\n",
    "lxy_centroid = line.centroid\n",
    "print(lxy_centroid)\n"
   ]
  },
  {
   "cell_type": "code",
   "execution_count": 20,
   "metadata": {},
   "outputs": [
    {
     "name": "stdout",
     "output_type": "stream",
     "text": [
      "<class 'shapely.geometry.point.Point'>\n"
     ]
    }
   ],
   "source": [
    "# What type is the centroid?\n",
    "centroid_type = type(lxy_centroid)\n",
    "print(centroid_type)"
   ]
  },
  {
   "cell_type": "markdown",
   "metadata": {},
   "source": [
    "<h3>Polygon</h3>"
   ]
  },
  {
   "cell_type": "code",
   "execution_count": 87,
   "metadata": {},
   "outputs": [
    {
     "name": "stdout",
     "output_type": "stream",
     "text": [
      "poly: POLYGON ((2.2 4.2, 7.2 -25.1, 9.26 -2.456, 2.2 4.2))\n",
      "poly2: POLYGON ((2 3, 6 4, 9 16, 2 3))\n",
      "Geometry type as text: Polygon\n",
      "Geometry how Python shows it: <class 'shapely.geometry.polygon.Polygon'>\n"
     ]
    }
   ],
   "source": [
    "# Create a Polygon from the coordinates\n",
    "poly1 = Polygon([(2.2, 4.2), (7.2, -25.1), (9.26, -2.456)])\n",
    "\n",
    "# We can also use our previously created Point objects (same outcome)\n",
    "# --> notice that Polygon object requires x,y coordinates as input\n",
    "poly2 = Polygon([[p.x, p.y] for p in [point1, point2, point3]])\n",
    "\n",
    "# Geometry type can be accessed as a String\n",
    "poly_type1 = poly1.geom_type\n",
    "\n",
    "# Using the Python's type function gives the type in a different format\n",
    "poly_type2 = type(poly1)\n",
    "\n",
    "# Let's see how our Polygon looks like\n",
    "print('poly:', poly1)\n",
    "print('poly2:', poly2)\n",
    "print(\"Geometry type as text:\", poly_type1)\n",
    "print(\"Geometry how Python shows it:\", poly_type2)"
   ]
  },
  {
   "cell_type": "code",
   "execution_count": 28,
   "metadata": {},
   "outputs": [
    {
     "data": {
      "image/svg+xml": [
       "<svg xmlns=\"http://www.w3.org/2000/svg\" xmlns:xlink=\"http://www.w3.org/1999/xlink\" width=\"100.0\" height=\"100.0\" viewBox=\"1.028 -26.272000000000002 9.404 31.644000000000002\" preserveAspectRatio=\"xMinYMin meet\"><g transform=\"matrix(1,0,0,-1,0,-20.900000000000002)\"><path fill-rule=\"evenodd\" fill=\"#66cc99\" stroke=\"#555555\" stroke-width=\"0.63288\" opacity=\"0.6\" d=\"M 2.2,4.2 L 7.2,-25.1 L 9.26,-2.456 L 2.2,4.2 z\" /></g></svg>"
      ],
      "text/plain": [
       "<shapely.geometry.polygon.Polygon at 0x7f05ccf77198>"
      ]
     },
     "execution_count": 28,
     "metadata": {},
     "output_type": "execute_result"
    }
   ],
   "source": [
    "poly1"
   ]
  },
  {
   "cell_type": "code",
   "execution_count": 29,
   "metadata": {},
   "outputs": [
    {
     "data": {
      "image/svg+xml": [
       "<svg xmlns=\"http://www.w3.org/2000/svg\" xmlns:xlink=\"http://www.w3.org/1999/xlink\" width=\"100.0\" height=\"100.0\" viewBox=\"1.48 2.48 8.04 14.04\" preserveAspectRatio=\"xMinYMin meet\"><g transform=\"matrix(1,0,0,-1,0,19.0)\"><path fill-rule=\"evenodd\" fill=\"#66cc99\" stroke=\"#555555\" stroke-width=\"0.2808\" opacity=\"0.6\" d=\"M 2.0,3.0 L 6.0,4.0 L 9.0,16.0 L 2.0,3.0 z\" /></g></svg>"
      ],
      "text/plain": [
       "<shapely.geometry.polygon.Polygon at 0x7f05ccf77160>"
      ]
     },
     "execution_count": 29,
     "metadata": {},
     "output_type": "execute_result"
    }
   ],
   "source": [
    "poly2"
   ]
  },
  {
   "cell_type": "markdown",
   "metadata": {},
   "source": [
    "<h2>Creating a <b>Polygon</b> with hole inside</h2>"
   ]
  },
  {
   "cell_type": "code",
   "execution_count": 126,
   "metadata": {},
   "outputs": [],
   "source": [
    "#Let's see what Polygon Contains\n",
    "\n",
    "#help(Polygon)"
   ]
  },
  {
   "cell_type": "code",
   "execution_count": 105,
   "metadata": {},
   "outputs": [],
   "source": [
    "#Creating Boundin box for world\n",
    "world_exterior = [(-180, 90), (-180, -90), (180, -90), (180, 90)]\n",
    "\n",
    "#There could be multipel holes. Hence for the holes we provide list of holes.(See multiple Bracktes)\n",
    "hole_exterior =  [[(-170, 80), (-170, -80), (170, -80), (170, 80)]]"
   ]
  },
  {
   "cell_type": "code",
   "execution_count": 121,
   "metadata": {},
   "outputs": [
    {
     "data": {
      "image/svg+xml": [
       "<svg xmlns=\"http://www.w3.org/2000/svg\" xmlns:xlink=\"http://www.w3.org/1999/xlink\" width=\"300\" height=\"208.8\" viewBox=\"-194.4 -104.4 388.8 208.8\" preserveAspectRatio=\"xMinYMin meet\"><g transform=\"matrix(1,0,0,-1,0,0.0)\"><path fill-rule=\"evenodd\" fill=\"#66cc99\" stroke=\"#555555\" stroke-width=\"2.592\" opacity=\"0.6\" d=\"M -180.0,90.0 L -180.0,-90.0 L 180.0,-90.0 L 180.0,90.0 L -180.0,90.0 z\" /></g></svg>"
      ],
      "text/plain": [
       "<shapely.geometry.polygon.Polygon at 0x7f05cd6f10f0>"
      ]
     },
     "execution_count": 121,
     "metadata": {},
     "output_type": "execute_result"
    }
   ],
   "source": [
    "#World without a hole\n",
    "world = Polygon(shell = world_exterior)\n",
    "world"
   ]
  },
  {
   "cell_type": "code",
   "execution_count": 135,
   "metadata": {},
   "outputs": [
    {
     "data": {
      "image/svg+xml": [
       "<svg xmlns=\"http://www.w3.org/2000/svg\" xmlns:xlink=\"http://www.w3.org/1999/xlink\" width=\"100.0\" height=\"100.0\" viewBox=\"79.764969321644 26.074442865544 8.733290185512004 4.6717293131119995\" preserveAspectRatio=\"xMinYMin meet\"><g transform=\"matrix(1,0,0,-1,0,56.8206150442)\"><path fill-rule=\"evenodd\" fill=\"#66cc99\" stroke=\"#555555\" stroke-width=\"0.1746658037102401\" opacity=\"0.6\" d=\"M 80.0884245137,30.4227169866 L 88.1748043151,30.4227169866 L 88.1748043151,26.3978980576 L 80.0884245137,26.3978980576 L 80.0884245137,30.4227169866 z\" /></g></svg>"
      ],
      "text/plain": [
       "<shapely.geometry.polygon.Polygon at 0x7f05cd360ac8>"
      ]
     },
     "execution_count": 135,
     "metadata": {},
     "output_type": "execute_result"
    }
   ],
   "source": [
    "NepalP1 = Point(80.0884245137, 26.3978980576)\n",
    "NepalP2 = Point(88.1748043151, 26.3978980576)\n",
    "NepalP3 = Point(80.0884245137,30.4227169866)\n",
    "NepalP4 = Point(88.1748043151, 30.4227169866)\n",
    "nepal = Polygon([[p.x, p.y] for p in [NepalP3,NepalP4,NepalP2,NepalP1]])\n",
    "nepal"
   ]
  },
  {
   "cell_type": "code",
   "execution_count": 139,
   "metadata": {},
   "outputs": [
    {
     "data": {
      "image/svg+xml": [
       "<svg xmlns=\"http://www.w3.org/2000/svg\" xmlns:xlink=\"http://www.w3.org/1999/xlink\" width=\"300\" height=\"208.8\" viewBox=\"-194.4 -104.4 388.8 208.8\" preserveAspectRatio=\"xMinYMin meet\"><g transform=\"matrix(1,0,0,-1,0,0.0)\"><path fill-rule=\"evenodd\" fill=\"#66cc99\" stroke=\"#555555\" stroke-width=\"2.592\" opacity=\"0.6\" d=\"M -180.0,90.0 L -180.0,-90.0 L 180.0,-90.0 L 180.0,90.0 L -180.0,90.0 z M -170.0,80.0 L -170.0,-80.0 L 170.0,-80.0 L 170.0,80.0 L -170.0,80.0 z\" /></g></svg>"
      ],
      "text/plain": [
       "<shapely.geometry.polygon.Polygon at 0x7f05cd768860>"
      ]
     },
     "execution_count": 139,
     "metadata": {},
     "output_type": "execute_result"
    }
   ],
   "source": [
    "#World with a hole\n",
    "worldWithHole = Polygon(shell = world_exterior,holes = hole_exterior)\n",
    "worldWithHole"
   ]
  },
  {
   "cell_type": "code",
   "execution_count": null,
   "metadata": {},
   "outputs": [],
   "source": []
  }
 ],
 "metadata": {
  "kernelspec": {
   "display_name": "Python 3",
   "language": "python",
   "name": "python3"
  },
  "language_info": {
   "codemirror_mode": {
    "name": "ipython",
    "version": 3
   },
   "file_extension": ".py",
   "mimetype": "text/x-python",
   "name": "python",
   "nbconvert_exporter": "python",
   "pygments_lexer": "ipython3",
   "version": "3.7.0"
  }
 },
 "nbformat": 4,
 "nbformat_minor": 4
}
