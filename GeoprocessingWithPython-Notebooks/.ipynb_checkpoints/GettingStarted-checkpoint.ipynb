{
 "cells": [
  {
   "cell_type": "markdown",
   "metadata": {},
   "source": [
    "<em>Author : Chris Garrard</em>\n",
    "\n",
    "Additional Resouces:\n",
    "\n",
    "<b>Learn Python</b>\n",
    "Python official documentation\n",
    "and www.codecademy.com/learn/python\n",
    "\n",
    "<b>GDAL/OGR</b>\n",
    "\n",
    "Python GDAL/OGR Cookbook found at <b>https://pcjericks.github.io/py-gdalogr-cookbook</b>.\n",
    "\n",
    "After Learning OGR:\n",
    "    Fiona - module designed to read and write vector data and is built on top of OGR. [http://toblerity.org/fiona/]\n",
    "    Shapely - module for manipulating geometries. [http://toblerity.org/shapely/]\n",
    "    Rasterio - built on top of GDAL, good module to work with raster data. [https://github.com/mapbox/rasterio]\n",
    "    \n",
    "   \n"
   ]
  },
  {
   "cell_type": "markdown",
   "metadata": {},
   "source": [
    "------------------------------------------"
   ]
  },
  {
   "cell_type": "markdown",
   "metadata": {},
   "source": [
    "<b>Why use Python and Open Source?</b>\n",
    "\n",
    "    Powerful language\n",
    "    Easier to learn\n",
    "    Several Python Modules for wide applications\n",
    "    Multiplatform\n",
    "    Used by proprietary GIS vendors like ESRI for Scripting\n",
    "    \"Black Box\"\n",
    "    \"Freedom\"\n",
    "\n",
    "--------------------------\n",
    " \n",
    "<b>Types of Spatial Data</b> \n",
    "\n",
    "    Raster - continuous data, no boundary, pixels holds information.\n",
    "    \n",
    "    Vector - discrete geometries, boundary, features has associated attributes. Eg. GeoJSON, SHP file\n",
    "    \n",
    "    \n",
    "   * Vector data can also be stored in relational databases and indexing.\n",
    "   * Certain vector data also supports BLOPs(binary large objects), which can be used to store binary objects like photographs\n",
    "  \n",
    "----------------------------\n",
    "\n",
    "<b>Geoprocessing</b>\n",
    "\n",
    "    Manipulating spatial data. Eg. Sense of direction and route to human is form of Geoprocessing.\n",
    "    \n",
    "------------------------------\n",
    "\n",
    "You dont give up qulaity by using open source tools. In fact several of the open source packages are also used by proprietary softwares.\n",
    "\n",
    "---------------------------------\n",
    "\n",
    "    \n",
    "    "
   ]
  },
  {
   "cell_type": "markdown",
   "metadata": {},
   "source": [
    "<b>Reading and Writing Vector Data</b>\n",
    "\n",
    "<b>Introduction to OGR</b>\n",
    "\n",
    "    OGR : Part of GDAL to read and write vector data.\n",
    "    Originally written in C and C++, but has bindings for other languages, including Python.\n",
    "    \n",
    "    To use GDAL with python, we need to install both GDAL Library and Python bindings.\n",
    "    \n",
    "   * Open GIS Simple Features Reference Implementation, but OGR isn't fully compliant with OpenGIS Simple Features specification, the name was changed adn OGR doesn't stand for anything.\n",
    "   \n",
    "   OGR can open a data source such as a shapefile, GeoJSON file, SpatiaLite, or Post GIS database.\n",
    "   There may be single <b>DataSource</b> object [ like in <em>shapefiles</em> ] or Multiple <b>DataSource</b> objects [ like <em>Spatialite or PostGIS</em> ].\n",
    "   \n",
    "   Each DataSource can have one or more child <b>Layer</b>  Objects one for each <b>DataSet</b> contained in <b>DataSource</b>.\n",
    "   \n",
    "   Each <b>Dataset</b> is considered as <b>Layer</b>.\n",
    "   \n",
    "   <b>Layer</b> containes <b>Features, Geometry and Attribute</b>."
   ]
  },
  {
   "cell_type": "markdown",
   "metadata": {},
   "source": [
    "------------------------"
   ]
  },
  {
   "cell_type": "code",
   "execution_count": 1,
   "metadata": {},
   "outputs": [
    {
     "name": "stdout",
     "output_type": "stream",
     "text": [
      "<osgeo.ogr.Driver; proxy of <Swig Object of type 'OGRDriverShadow *' at 0x7f5713411b10> >\n"
     ]
    }
   ],
   "source": [
    "# Getting Driver Information\n",
    "from osgeo import ogr\n",
    "driver = ogr.GetDriverByName('GeoJSON')\n",
    "print(driver)"
   ]
  }
 ],
 "metadata": {
  "kernelspec": {
   "display_name": "Python 3",
   "language": "python",
   "name": "python3"
  },
  "language_info": {
   "codemirror_mode": {
    "name": "ipython",
    "version": 3
   },
   "file_extension": ".py",
   "mimetype": "text/x-python",
   "name": "python",
   "nbconvert_exporter": "python",
   "pygments_lexer": "ipython3",
   "version": "3.7.0"
  }
 },
 "nbformat": 4,
 "nbformat_minor": 4
}
